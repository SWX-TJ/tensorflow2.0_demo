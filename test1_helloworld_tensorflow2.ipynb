{
 "cells": [
  {
   "cell_type": "code",
   "execution_count": 1,
   "metadata": {},
   "outputs": [],
   "source": [
    "#1.import software pack\n",
    "import tensorflow as tf\n",
    "from tensorflow import keras\n",
    "from tensorflow.keras.layers import Dense,Conv2D,Flatten\n",
    "import numpy as np\n",
    "import matplotlib.pyplot as plt"
   ]
  },
  {
   "cell_type": "code",
   "execution_count": 2,
   "metadata": {},
   "outputs": [
    {
     "name": "stdout",
     "output_type": "stream",
     "text": [
      "(60000, 28, 28)\n",
      "(10000, 28, 28)\n",
      "(60000,)\n",
      "(10000,)\n",
      "(60000, 28, 28, 1)\n",
      "(10000, 28, 28, 1)\n",
      "(60000,)\n",
      "(10000,)\n"
     ]
    }
   ],
   "source": [
    "#2.load dataset and check shape\n",
    "(x_train,y_train),(x_test,y_test)  = keras.datasets.mnist.load_data()\n",
    "print(x_train.shape)\n",
    "print(x_test.shape)\n",
    "print(y_train.shape)\n",
    "print(y_test.shape)\n",
    "x_train = x_train.reshape((-1,28,28,1))/255.0\n",
    "x_test = x_test.reshape((-1,28,28,1))/255.0\n",
    "print(x_train.shape)\n",
    "print(x_test.shape)\n",
    "print(y_train.shape)\n",
    "print(y_test.shape)"
   ]
  },
  {
   "cell_type": "code",
   "execution_count": 3,
   "metadata": {},
   "outputs": [
    {
     "data": {
      "image/png": "[encoded data removed]",
      "text/plain": [
       "<Figure size 432x288 with 4 Axes>"
      ]
     },
     "metadata": {
      "needs_background": "light"
     },
     "output_type": "display_data"
    }
   ],
   "source": [
    "#3.present some image\n",
    "x = np.arange(0,3*np.pi,0.1)\n",
    "y_sin = np.sin(x)\n",
    "y_cos = np.cos(x)\n",
    "plt.subplot(1,2,1)\n",
    "plt.imshow(x_train[0].reshape((28,28)))\n",
    "plt.title('x_train')\n",
    "plt.colorbar()\n",
    "plt.grid(False)\n",
    "plt.subplot(1,2,2)\n",
    "plt.imshow(x_test[0].reshape((28,28)))\n",
    "plt.title('x_test')\n",
    "plt.colorbar()\n",
    "plt.grid(False)\n",
    "plt.show()\n"
   ]
  },
  {
   "cell_type": "code",
   "execution_count": 4,
   "metadata": {},
   "outputs": [
    {
     "name": "stdout",
     "output_type": "stream",
     "text": [
      "Model: \"sequential\"\n",
      "_________________________________________________________________\n",
      "Layer (type)                 Output Shape              Param #   \n",
      "=================================================================\n",
      "conv2d (Conv2D)              (None, 28, 28, 4)         40        \n",
      "_________________________________________________________________\n",
      "flatten (Flatten)            (None, 3136)              0         \n",
      "_________________________________________________________________\n",
      "dense (Dense)                (None, 64)                200768    \n",
      "_________________________________________________________________\n",
      "dense_1 (Dense)              (None, 10)                650       \n",
      "=================================================================\n",
      "Total params: 201,458\n",
      "Trainable params: 201,458\n",
      "Non-trainable params: 0\n",
      "_________________________________________________________________\n"
     ]
    }
   ],
   "source": [
    "#build model\n",
    "cls_model = keras.models.Sequential([\n",
    "                                    Conv2D(4,3, padding='same',activation='relu',input_shape=(28,28,1)),\n",
    "                                    Flatten(),\n",
    "                                    Dense(64,activation='relu'),\n",
    "                                    Dense(10,activation='softmax')\n",
    "                                    ])\n",
    "\n",
    "cls_model.compile(optimizer='adam',\n",
    "                 loss = 'sparse_categorical_crossentropy',\n",
    "                metrics=['accuracy'])\n",
    "cls_model.summary()"
   ]
  },
  {
   "cell_type": "code",
   "execution_count": 5,
   "metadata": {},
   "outputs": [
    {
     "name": "stdout",
     "output_type": "stream",
     "text": [
      "Train on 48000 samples, validate on 12000 samples\n",
      "Epoch 1/20\n",
      "48000/48000 [==============================] - 11s 219us/sample - loss: 0.2142 - accuracy: 0.9348 - val_loss: 0.1227 - val_accuracy: 0.9615\n",
      "Epoch 2/20\n",
      "48000/48000 [==============================] - 9s 190us/sample - loss: 0.0834 - accuracy: 0.9748 - val_loss: 0.0783 - val_accuracy: 0.9763\n",
      "Epoch 3/20\n",
      "48000/48000 [==============================] - 9s 179us/sample - loss: 0.0544 - accuracy: 0.9830 - val_loss: 0.0746 - val_accuracy: 0.9780\n",
      "Epoch 4/20\n",
      "48000/48000 [==============================] - 10s 217us/sample - loss: 0.0372 - accuracy: 0.9882 - val_loss: 0.0754 - val_accuracy: 0.9789\n",
      "Epoch 5/20\n",
      "48000/48000 [==============================] - 11s 219us/sample - loss: 0.0254 - accuracy: 0.9921 - val_loss: 0.0754 - val_accuracy: 0.9800\n",
      "Epoch 6/20\n",
      "48000/48000 [==============================] - 10s 218us/sample - loss: 0.0179 - accuracy: 0.9943 - val_loss: 0.0844 - val_accuracy: 0.9784\n",
      "Epoch 7/20\n",
      "48000/48000 [==============================] - 10s 213us/sample - loss: 0.0145 - accuracy: 0.9954 - val_loss: 0.0847 - val_accuracy: 0.9797\n",
      "Epoch 8/20\n",
      "48000/48000 [==============================] - 10s 213us/sample - loss: 0.0108 - accuracy: 0.9965 - val_loss: 0.0864 - val_accuracy: 0.9812\n",
      "Epoch 9/20\n",
      "48000/48000 [==============================] - 9s 193us/sample - loss: 0.0095 - accuracy: 0.9970 - val_loss: 0.1097 - val_accuracy: 0.9780\n",
      "Epoch 10/20\n",
      "48000/48000 [==============================] - 10s 213us/sample - loss: 0.0074 - accuracy: 0.9974 - val_loss: 0.0904 - val_accuracy: 0.9827\n",
      "Epoch 11/20\n",
      "48000/48000 [==============================] - 10s 199us/sample - loss: 0.0057 - accuracy: 0.9982 - val_loss: 0.1229 - val_accuracy: 0.9763\n",
      "Epoch 12/20\n",
      "48000/48000 [==============================] - 10s 216us/sample - loss: 0.0056 - accuracy: 0.9982 - val_loss: 0.1030 - val_accuracy: 0.9816\n",
      "Epoch 13/20\n",
      "48000/48000 [==============================] - 10s 209us/sample - loss: 0.0042 - accuracy: 0.9986 - val_loss: 0.1083 - val_accuracy: 0.9822\n",
      "Epoch 14/20\n",
      "48000/48000 [==============================] - 9s 191us/sample - loss: 0.0040 - accuracy: 0.9986 - val_loss: 0.1180 - val_accuracy: 0.9778\n",
      "Epoch 15/20\n",
      "48000/48000 [==============================] - 10s 207us/sample - loss: 0.0056 - accuracy: 0.9981 - val_loss: 0.1181 - val_accuracy: 0.9803\n",
      "Epoch 16/20\n",
      "48000/48000 [==============================] - 10s 206us/sample - loss: 0.0040 - accuracy: 0.9986 - val_loss: 0.1275 - val_accuracy: 0.9802\n",
      "Epoch 17/20\n",
      "48000/48000 [==============================] - 10s 206us/sample - loss: 0.0024 - accuracy: 0.9991 - val_loss: 0.1426 - val_accuracy: 0.9789\n",
      "Epoch 18/20\n",
      "48000/48000 [==============================] - 9s 189us/sample - loss: 0.0034 - accuracy: 0.9989 - val_loss: 0.1615 - val_accuracy: 0.9763\n",
      "Epoch 19/20\n",
      "48000/48000 [==============================] - 10s 210us/sample - loss: 0.0032 - accuracy: 0.9991 - val_loss: 0.1350 - val_accuracy: 0.9790\n",
      "Epoch 20/20\n",
      "48000/48000 [==============================] - 10s 215us/sample - loss: 0.0029 - accuracy: 0.9990 - val_loss: 0.1300 - val_accuracy: 0.9813\n"
     ]
    }
   ],
   "source": [
    "# train the model \n",
    "history = cls_model.fit(x_train,y_train,batch_size=20,epochs=20,validation_split=0.2)"
   ]
  },
  {
   "cell_type": "code",
   "execution_count": 6,
   "metadata": {},
   "outputs": [
    {
     "data": {
      "image/png": "[encoded data removed]",
      "text/plain": [
       "<Figure size 432x288 with 2 Axes>"
      ]
     },
     "metadata": {
      "needs_background": "light"
     },
     "output_type": "display_data"
    }
   ],
   "source": [
    "# show each epoch train result \n",
    "plt.subplot(2,1,1)\n",
    "plt.plot(history.history['loss'])\n",
    "plt.plot(history.history['val_loss'])\n",
    "plt.xlabel('epoch')\n",
    "plt.ylabel('loss')\n",
    "plt.legend(['train', 'test'], loc='upper left')\n",
    "plt.subplot(2,1,2)\n",
    "plt.plot(history.history['accuracy'])\n",
    "plt.plot(history.history['val_accuracy'])\n",
    "plt.xlabel('epoch')\n",
    "plt.ylabel('acc')\n",
    "plt.legend(['train', 'test'], loc='upper left')\n",
    "plt.show()"
   ]
  },
  {
   "cell_type": "code",
   "execution_count": 7,
   "metadata": {},
   "outputs": [
    {
     "name": "stdout",
     "output_type": "stream",
     "text": [
      "10000/1 - 1s - loss: 0.0543 - accuracy: 0.9828\n",
      "eval loss is 0.1086102051612987,eval acc is 0.9828000068664551\n"
     ]
    }
   ],
   "source": [
    "#evaluate the model\n",
    "eval_loss,eval_acc  = cls_model.evaluate(x_test,y_test,verbose = 2)\n",
    "print(\"eval loss is {},eval acc is {}\".format(eval_loss,eval_acc))"
   ]
  },
  {
   "cell_type": "code",
   "execution_count": 8,
   "metadata": {},
   "outputs": [
    {
     "data": {
      "text/plain": [
       "<matplotlib.image.AxesImage at 0x7fbde93c19e8>"
      ]
     },
     "execution_count": 8,
     "metadata": {},
     "output_type": "execute_result"
    },
    {
     "data": {
      "image/png": "[encoded data removed]",
      "text/plain": [
       "<Figure size 432x288 with 1 Axes>"
      ]
     },
     "metadata": {
      "needs_background": "light"
     },
     "output_type": "display_data"
    }
   ],
   "source": [
    "#predict new data and show the result\n",
    "predict_result = cls_model.predict(x_test)\n",
    "plt.xlabel('predict result is {}'.format(np.argmax(predict_result[0])))\n",
    "plt.imshow(x_test[0].reshape((28,28)))"
   ]
  }
 ],
 "metadata": {
  "kernelspec": {
   "display_name": "Python 3",
   "language": "python",
   "name": "python3"
  },
  "language_info": {
   "codemirror_mode": {
    "name": "ipython",
    "version": 3
   },
   "file_extension": ".py",
   "mimetype": "text/x-python",
   "name": "python",
   "nbconvert_exporter": "python",
   "pygments_lexer": "ipython3",
   "version": "3.6.0"
  }
 },
 "nbformat": 4,
 "nbformat_minor": 2
}
